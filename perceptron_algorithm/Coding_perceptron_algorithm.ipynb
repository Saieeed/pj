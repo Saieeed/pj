{
  "nbformat": 4,
  "nbformat_minor": 0,
  "metadata": {
    "kernelspec": {
      "display_name": "Python 3",
      "language": "python",
      "name": "python3"
    },
    "language_info": {
      "codemirror_mode": {
        "name": "ipython",
        "version": 3
      },
      "file_extension": ".py",
      "mimetype": "text/x-python",
      "name": "python",
      "nbconvert_exporter": "python",
      "pygments_lexer": "ipython3",
      "version": "3.7.6"
    },
    "colab": {
      "name": "Coding_perceptron_algorithm.ipynb",
      "provenance": [],
      "collapsed_sections": [],
      "include_colab_link": true
    }
  },
  "cells": [
    {
      "cell_type": "markdown",
      "metadata": {
        "id": "view-in-github",
        "colab_type": "text"
      },
      "source": [
        "<a href=\"https://colab.research.google.com/github/Saieeed/pj/blob/main/perceptron_algorithm/Coding_perceptron_algorithm.ipynb\" target=\"_parent\"><img src=\"https://colab.research.google.com/assets/colab-badge.svg\" alt=\"Open In Colab\"/></a>"
      ]
    },
    {
      "cell_type": "markdown",
      "metadata": {
        "id": "tCkvkBzWQfOZ"
      },
      "source": [
        "# Sentiment analysis with the perceptron algorithm\n",
        "\n",
        "### Importing the necessary packages"
      ]
    },
    {
      "cell_type": "code",
      "metadata": {
        "id": "TeSYY-G_QmH3",
        "outputId": "2cbb4285-1ac4-439b-fe06-cf4e084bcb17",
        "colab": {
          "base_uri": "https://localhost:8080/"
        }
      },
      "source": [
        "!git clone https://github.com/s7s/machine_learning_1.git\n",
        "%cd  machine_learning_1/perceptron_algorithm"
      ],
      "execution_count": 93,
      "outputs": [
        {
          "output_type": "stream",
          "name": "stdout",
          "text": [
            "Cloning into 'machine_learning_1'...\n",
            "remote: Enumerating objects: 182, done.\u001b[K\n",
            "remote: Counting objects: 100% (182/182), done.\u001b[K\n",
            "remote: Compressing objects: 100% (133/133), done.\u001b[K\n",
            "remote: Total 182 (delta 82), reused 146 (delta 46), pack-reused 0\u001b[K\n",
            "Receiving objects: 100% (182/182), 34.11 MiB | 20.91 MiB/s, done.\n",
            "Resolving deltas: 100% (82/82), done.\n",
            "/content/machine_learning_1/perceptron_algorithm/machine_learning_1/perceptron_algorithm/machine_learning_1/perceptron_algorithm\n"
          ]
        }
      ]
    },
    {
      "cell_type": "code",
      "metadata": {
        "id": "AT65ozh-QfOb"
      },
      "source": [
        "# Importing packages\n",
        "from matplotlib import pyplot as plt\n",
        "import numpy as np\n",
        "import random\n",
        "import utils"
      ],
      "execution_count": 94,
      "outputs": []
    },
    {
      "cell_type": "markdown",
      "metadata": {
        "id": "wU0UAbhaQfOc"
      },
      "source": [
        "### Defining and plotting our dataset"
      ]
    },
    {
      "cell_type": "code",
      "metadata": {
        "id": "__oaZrDfQfOc"
      },
      "source": [
        "features = np.array([[1,0],[0,2],[1,1],[1,2],[1,3],[2,2],[2,3],[3,2]])\n",
        "labels = np.array([0,0,0,0,1,1,1,1])"
      ],
      "execution_count": 95,
      "outputs": []
    },
    {
      "cell_type": "code",
      "metadata": {
        "id": "jVPeVngdQfOc",
        "outputId": "d837208f-a302-48eb-ae13-48e1eb3c65e3",
        "colab": {
          "base_uri": "https://localhost:8080/",
          "height": 279
        }
      },
      "source": [
        "# Plotting the points\n",
        "utils.plot_points(features, labels)\n",
        "\n",
        "# Uncomment the following line to see a good line fit for this data.\n",
        "utils.draw_line(1,1,-3.5)"
      ],
      "execution_count": 96,
      "outputs": [
        {
          "output_type": "display_data",
          "data": {
            "image/png": "[encoded data removed]",
            "text/plain": [
              "<Figure size 432x288 with 1 Axes>"
            ]
          },
          "metadata": {
            "needs_background": "light"
          }
        }
      ]
    },
    {
      "cell_type": "markdown",
      "metadata": {
        "id": "uakz24K2QfOd"
      },
      "source": [
        "### Coding the perceptron trick"
      ]
    },
    {
      "cell_type": "code",
      "metadata": {
        "id": "6lNtlGVPQfOd"
      },
      "source": [
        "def step(x):\n",
        "    ## TODO ##\n",
        "    # implement step function\n",
        "    return 1 if x>=0 else 0 \n",
        "\n",
        "def score(weights, bias, features):\n",
        "    ## TODO ##\n",
        "    # implement score calculation\n",
        "    output= np.dot(weights,features) +bias\n",
        "    return output\n",
        "\n",
        "def prediction(weights, bias, features):\n",
        "    ## TODO ##\n",
        "    # implement prediction calculation using step and score functions\n",
        "    output= step(score(weights, bias, features))\n",
        "    return output\n",
        "\n",
        "def error(weights, bias, features, label):\n",
        "    ## TODO ##\n",
        "    # implement error calculation using prediction and score functions\n",
        "    output = 0 if label == prediction(weights, bias, features) else abs(score(weights, bias, features))\n",
        "    return output\n",
        "\n",
        "def mean_perceptron_error(weights, bias, features, labels):\n",
        "    total_error = 0\n",
        "    for i in range(len(features)):\n",
        "        total_error += error(weights, bias, features[i], labels[i])\n",
        "    return total_error/len(features)"
      ],
      "execution_count": 109,
      "outputs": []
    },
    {
      "cell_type": "code",
      "metadata": {
        "id": "etVteOzuQfOf"
      },
      "source": [
        "def perceptron_trick(weights, bias, features, label, learning_rate = 0.01):\n",
        "    ## TODO ##\n",
        "    # update the weights and bias using a single data sample\n",
        "    p=prediction(weights, bias, features)\n",
        "    for i in range(len(weights)):\n",
        "      weights= weights + learning_rate* np.dot(label-p,features)\n",
        "\n",
        "    bias = bias + (learning_rate*(label-p))\n",
        "    return weights, bias"
      ],
      "execution_count": 116,
      "outputs": []
    },
    {
      "cell_type": "markdown",
      "metadata": {
        "id": "E4DJcTPOQfOf"
      },
      "source": [
        "### Running the perceptron algorithm"
      ]
    },
    {
      "cell_type": "code",
      "metadata": {
        "id": "_33WBrmcQfOg"
      },
      "source": [
        "random.seed(0)\n",
        "def perceptron_algorithm(features, labels, learning_rate = 0.01, epochs = 200):\n",
        "    weights = [1.0 for i in range(len(features[0]))]\n",
        "    bias = 0.0\n",
        "    errors = []\n",
        "    ## TODO ##\n",
        "    # for this number of epochs \n",
        "    # get a random datasample of our dataset(x,y)\n",
        "    # using the selected datasample use perceptron_trick update weights and bias\n",
        "    for i in range(epochs):\n",
        "      r = random.randint(0,len(features)-1)\n",
        "      weights, bias=perceptron_trick(weights, bias, features[r], labels[r], learning_rate )\n",
        "      errors.append(mean_perceptron_error(weights, bias, features, labels))\n",
        "      \n",
        "\n",
        "    utils.draw_line(weights[0], weights[1], bias)\n",
        "    utils.plot_points(features, labels)\n",
        "    plt.ylim([-2, 5])\n",
        "    plt.show()\n",
        "    plt.scatter(range(epochs), errors)\n",
        "    return weights, bias"
      ],
      "execution_count": 117,
      "outputs": []
    },
    {
      "cell_type": "code",
      "metadata": {
        "id": "l-49WtoMQfOg",
        "outputId": "f04cc981-31ed-4202-f83f-e086f7a8850f",
        "colab": {
          "base_uri": "https://localhost:8080/",
          "height": 549
        }
      },
      "source": [
        "perceptron_algorithm(features, labels)"
      ],
      "execution_count": 118,
      "outputs": [
        {
          "output_type": "display_data",
          "data": {
            "image/png": "[encoded data removed]",
            "text/plain": [
              "<Figure size 432x288 with 1 Axes>"
            ]
          },
          "metadata": {
            "needs_background": "light"
          }
        },
        {
          "output_type": "execute_result",
          "data": {
            "text/plain": [
              "(array([0.38, 0.02]), -0.4200000000000002)"
            ]
          },
          "metadata": {},
          "execution_count": 118
        },
        {
          "output_type": "display_data",
          "data": {
            "image/png": "[encoded data removed]",
            "text/plain": [
              "<Figure size 432x288 with 1 Axes>"
            ]
          },
          "metadata": {
            "needs_background": "light"
          }
        }
      ]
    },
    {
      "cell_type": "markdown",
      "metadata": {
        "id": "XC_xjAwxQfOg"
      },
      "source": [
        "### The perceptron algorithm using SKlearn"
      ]
    },
    {
      "cell_type": "code",
      "metadata": {
        "id": "J5j8WRAAQfOi",
        "outputId": "57d6e7ed-fe21-40e7-b55f-31fbf2bb006c",
        "colab": {
          "base_uri": "https://localhost:8080/",
          "height": 135
        }
      },
      "source": [
        "from sklearn.linear_model import Perceptron\n",
        "## TODO ##\n",
        "# Use SKlearn to train perceptron algorithm\n",
        "clf="
      ],
      "execution_count": 67,
      "outputs": [
        {
          "output_type": "error",
          "ename": "SyntaxError",
          "evalue": "ignored",
          "traceback": [
            "\u001b[0;36m  File \u001b[0;32m\"<ipython-input-67-faa31c5d3d7e>\"\u001b[0;36m, line \u001b[0;32m4\u001b[0m\n\u001b[0;31m    clf=\u001b[0m\n\u001b[0m        ^\u001b[0m\n\u001b[0;31mSyntaxError\u001b[0m\u001b[0;31m:\u001b[0m invalid syntax\n"
          ]
        }
      ]
    },
    {
      "cell_type": "code",
      "metadata": {
        "id": "r0zV0RmcUNiR",
        "outputId": "b6dfe86e-1bd5-4937-a546-a54288e28077",
        "colab": {
          "base_uri": "https://localhost:8080/",
          "height": 172
        }
      },
      "source": [
        "clf.score(features, labels)"
      ],
      "execution_count": 68,
      "outputs": [
        {
          "output_type": "error",
          "ename": "NameError",
          "evalue": "ignored",
          "traceback": [
            "\u001b[0;31m---------------------------------------------------------------------------\u001b[0m",
            "\u001b[0;31mNameError\u001b[0m                                 Traceback (most recent call last)",
            "\u001b[0;32m<ipython-input-68-beaa57aaf811>\u001b[0m in \u001b[0;36m<module>\u001b[0;34m()\u001b[0m\n\u001b[0;32m----> 1\u001b[0;31m \u001b[0mclf\u001b[0m\u001b[0;34m.\u001b[0m\u001b[0mscore\u001b[0m\u001b[0;34m(\u001b[0m\u001b[0mfeatures\u001b[0m\u001b[0;34m,\u001b[0m \u001b[0mlabels\u001b[0m\u001b[0;34m)\u001b[0m\u001b[0;34m\u001b[0m\u001b[0;34m\u001b[0m\u001b[0m\n\u001b[0m",
            "\u001b[0;31mNameError\u001b[0m: name 'clf' is not defined"
          ]
        }
      ]
    },
    {
      "cell_type": "code",
      "metadata": {
        "id": "UCHrDXAEUiwD"
      },
      "source": [
        "weights = clf.coef_\n",
        "bias = clf.intercept_\n",
        "utils.draw_line(weights[0][0], weights[0][1], bias)\n",
        "utils.plot_points(features, labels)\n",
        "plt.show()"
      ],
      "execution_count": null,
      "outputs": []
    }
  ]
}